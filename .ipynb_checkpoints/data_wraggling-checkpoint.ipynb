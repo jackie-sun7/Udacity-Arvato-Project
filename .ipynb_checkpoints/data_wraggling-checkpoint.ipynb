{
 "cells": [
  {
   "cell_type": "code",
   "execution_count": 10,
   "metadata": {},
   "outputs": [],
   "source": [
    "import pandas as pd\n",
    "import numpy as np\n",
    "import matplotlib.pyplot as plt\n",
    "pd.options.display.max_columns = None"
   ]
  },
  {
   "cell_type": "code",
   "execution_count": 11,
   "metadata": {},
   "outputs": [],
   "source": [
    "azdias = pd.read_csv('data/Udacity_AZDIAS_052018.csv', sep=';')\n",
    "customers = pd.read_csv('data/Udacity_CUSTOMERS_052018.csv', sep=';')"
   ]
  },
  {
   "cell_type": "markdown",
   "metadata": {},
   "source": [
    "- #### Pandas deliver a warning message, so need to check datatype of each column and find mixed types."
   ]
  },
  {
   "cell_type": "code",
   "execution_count": 12,
   "metadata": {},
   "outputs": [
    {
     "data": {
      "text/plain": [
       "CAMEO_DEU_2015              object\n",
       "CAMEO_DEUG_2015             object\n",
       "CAMEO_INTL_2015             object\n",
       "D19_LETZTER_KAUF_BRANCHE    object\n",
       "EINGEFUEGT_AM               object\n",
       "OST_WEST_KZ                 object\n",
       "dtype: object"
      ]
     },
     "execution_count": 12,
     "metadata": {},
     "output_type": "execute_result"
    }
   ],
   "source": [
    "azdias.dtypes[azdias.dtypes==object]"
   ]
  },
  {
   "cell_type": "code",
   "execution_count": 13,
   "metadata": {},
   "outputs": [],
   "source": [
    "# Map categorical value(1A,1B,2A, etc.) to numerical value\n",
    "CAMEO_DEU_2015_value = azdias.groupby(['CAMEO_DEU_2015']).count()['LNR'].index\n",
    "CAMEO_DEU_2015_value_map = {}\n",
    "for i, item in enumerate(CAMEO_DEU_2015_value):\n",
    "    # Conside XX as missing value, fill with 0\n",
    "    if item== 'XX':\n",
    "        CAMEO_DEU_2015_value_map[item] = 0\n",
    "    else:\n",
    "        CAMEO_DEU_2015_value_map[item] = i + 1        "
   ]
  },
  {
   "cell_type": "code",
   "execution_count": 14,
   "metadata": {},
   "outputs": [],
   "source": [
    "azdias['CAMEO_DEU_2015'] = azdias['CAMEO_DEU_2015'].apply(lambda x: CAMEO_DEU_2015_value_map.get(x))\n",
    "azdias['CAMEO_DEU_2015'].fillna(0, inplace=True)"
   ]
  },
  {
   "cell_type": "code",
   "execution_count": 15,
   "metadata": {},
   "outputs": [],
   "source": [
    "# Conside X as missing value, fill with 0\n",
    "azdias['CAMEO_DEUG_2015'] = np.where(azdias['CAMEO_DEUG_2015']=='X', 0, azdias['CAMEO_DEUG_2015'])\n",
    "azdias['CAMEO_DEUG_2015'] = azdias['CAMEO_DEUG_2015'].astype('float')\n",
    "azdias['CAMEO_DEUG_2015'].fillna(0, inplace=True)"
   ]
  },
  {
   "cell_type": "code",
   "execution_count": 16,
   "metadata": {},
   "outputs": [],
   "source": [
    "# Conside XX as missing value, fill with 0\n",
    "azdias['CAMEO_INTL_2015'] = np.where(azdias['CAMEO_INTL_2015']=='XX', 0, azdias['CAMEO_INTL_2015'])\n",
    "azdias['CAMEO_INTL_2015'] = azdias['CAMEO_INTL_2015'].astype('float')\n",
    "azdias['CAMEO_INTL_2015'].fillna(0, inplace=True)"
   ]
  },
  {
   "cell_type": "code",
   "execution_count": 17,
   "metadata": {},
   "outputs": [],
   "source": [
    "# Already has encoded columns contain branch info.\n",
    "azdias.drop(['D19_LETZTER_KAUF_BRANCHE'], axis=1, inplace=True)"
   ]
  },
  {
   "cell_type": "code",
   "execution_count": 19,
   "metadata": {},
   "outputs": [],
   "source": [
    "# Only keep year\n",
    "azdias['EINGEFUEGT_AM'] = pd.to_datetime(azdias['EINGEFUEGT_AM']).dt.year\n",
    "azdias['EINGEFUEGT_AM'].fillna(azdias['EINGEFUEGT_AM'].mode()[0], inplace=True)"
   ]
  },
  {
   "cell_type": "code",
   "execution_count": 20,
   "metadata": {},
   "outputs": [],
   "source": [
    "# Map O and W to 1 and 2, fill Nan with 0\n",
    "azdias['OST_WEST_KZ'] = np.where(\n",
    "    azdias['OST_WEST_KZ']=='O',\n",
    "    1,\n",
    "    np.where(azdias['OST_WEST_KZ']=='W', 2, 0)\n",
    ")"
   ]
  },
  {
   "cell_type": "code",
   "execution_count": 21,
   "metadata": {},
   "outputs": [
    {
     "data": {
      "text/plain": [
       "Series([], dtype: object)"
      ]
     },
     "execution_count": 21,
     "metadata": {},
     "output_type": "execute_result"
    }
   ],
   "source": [
    "azdias.dtypes[azdias.dtypes==object]"
   ]
  },
  {
   "cell_type": "code",
   "execution_count": null,
   "metadata": {},
   "outputs": [],
   "source": []
  },
  {
   "cell_type": "code",
   "execution_count": null,
   "metadata": {},
   "outputs": [],
   "source": []
  },
  {
   "cell_type": "code",
   "execution_count": null,
   "metadata": {},
   "outputs": [],
   "source": []
  },
  {
   "cell_type": "markdown",
   "metadata": {},
   "source": [
    "- #### Checking missing percentage and group column with same missing rate."
   ]
  },
  {
   "cell_type": "code",
   "execution_count": 25,
   "metadata": {},
   "outputs": [],
   "source": [
    "azdias_missing_percent = (azdias.isna().sum(axis=0)/azdias.shape[0])"
   ]
  },
  {
   "cell_type": "code",
   "execution_count": 26,
   "metadata": {},
   "outputs": [],
   "source": [
    "azdias_missing_percent = azdias_missing_percent.rename('missing_percent').reset_index()"
   ]
  },
  {
   "cell_type": "code",
   "execution_count": 27,
   "metadata": {},
   "outputs": [],
   "source": [
    "azdias_missing_percent = azdias_missing_percent.groupby('missing_percent')['index'] \\\n",
    "                          .apply(lambda x: list(x)) \\\n",
    "                          .reset_index() \\\n",
    "                          .sort_values(['missing_percent'], ascending=False).reset_index(drop=True)"
   ]
  },
  {
   "cell_type": "code",
   "execution_count": 28,
   "metadata": {},
   "outputs": [],
   "source": [
    "azdias_missing_percent['attribute_cnt'] = azdias_missing_percent['index'].apply(lambda x:len(x))"
   ]
  },
  {
   "cell_type": "code",
   "execution_count": 29,
   "metadata": {},
   "outputs": [
    {
     "data": {
      "text/html": [
       "<div>\n",
       "<style scoped>\n",
       "    .dataframe tbody tr th:only-of-type {\n",
       "        vertical-align: middle;\n",
       "    }\n",
       "\n",
       "    .dataframe tbody tr th {\n",
       "        vertical-align: top;\n",
       "    }\n",
       "\n",
       "    .dataframe thead th {\n",
       "        text-align: right;\n",
       "    }\n",
       "</style>\n",
       "<table border=\"1\" class=\"dataframe\">\n",
       "  <thead>\n",
       "    <tr style=\"text-align: right;\">\n",
       "      <th></th>\n",
       "      <th>missing_percent</th>\n",
       "      <th>index</th>\n",
       "      <th>attribute_cnt</th>\n",
       "    </tr>\n",
       "  </thead>\n",
       "  <tbody>\n",
       "    <tr>\n",
       "      <th>0</th>\n",
       "      <td>0.998648</td>\n",
       "      <td>[ALTER_KIND4]</td>\n",
       "      <td>1</td>\n",
       "    </tr>\n",
       "    <tr>\n",
       "      <th>1</th>\n",
       "      <td>0.993077</td>\n",
       "      <td>[ALTER_KIND3]</td>\n",
       "      <td>1</td>\n",
       "    </tr>\n",
       "    <tr>\n",
       "      <th>2</th>\n",
       "      <td>0.966900</td>\n",
       "      <td>[ALTER_KIND2]</td>\n",
       "      <td>1</td>\n",
       "    </tr>\n",
       "    <tr>\n",
       "      <th>3</th>\n",
       "      <td>0.909048</td>\n",
       "      <td>[ALTER_KIND1]</td>\n",
       "      <td>1</td>\n",
       "    </tr>\n",
       "    <tr>\n",
       "      <th>4</th>\n",
       "      <td>0.733996</td>\n",
       "      <td>[EXTSEL992]</td>\n",
       "      <td>1</td>\n",
       "    </tr>\n",
       "    <tr>\n",
       "      <th>5</th>\n",
       "      <td>0.655967</td>\n",
       "      <td>[KK_KUNDENTYP]</td>\n",
       "      <td>1</td>\n",
       "    </tr>\n",
       "    <tr>\n",
       "      <th>6</th>\n",
       "      <td>0.295041</td>\n",
       "      <td>[ALTERSKATEGORIE_FEIN]</td>\n",
       "      <td>1</td>\n",
       "    </tr>\n",
       "    <tr>\n",
       "      <th>7</th>\n",
       "      <td>0.288495</td>\n",
       "      <td>[D19_BANKEN_ONLINE_QUOTE_12, D19_GESAMT_ONLINE...</td>\n",
       "      <td>8</td>\n",
       "    </tr>\n",
       "    <tr>\n",
       "      <th>8</th>\n",
       "      <td>0.149597</td>\n",
       "      <td>[KBA05_ALTER1, KBA05_ALTER2, KBA05_ALTER3, KBA...</td>\n",
       "      <td>64</td>\n",
       "    </tr>\n",
       "    <tr>\n",
       "      <th>9</th>\n",
       "      <td>0.135989</td>\n",
       "      <td>[KKK, REGIOTYP, VHN]</td>\n",
       "      <td>3</td>\n",
       "    </tr>\n",
       "    <tr>\n",
       "      <th>10</th>\n",
       "      <td>0.130736</td>\n",
       "      <td>[PLZ8_ANTG1, PLZ8_ANTG2, PLZ8_ANTG3, PLZ8_ANTG...</td>\n",
       "      <td>7</td>\n",
       "    </tr>\n",
       "    <tr>\n",
       "      <th>11</th>\n",
       "      <td>0.120735</td>\n",
       "      <td>[HH_DELTA_FLAG, W_KEIT_KIND_HH]</td>\n",
       "      <td>2</td>\n",
       "    </tr>\n",
       "    <tr>\n",
       "      <th>12</th>\n",
       "      <td>0.118714</td>\n",
       "      <td>[KBA13_ALTERHALTER_30, KBA13_ALTERHALTER_45, K...</td>\n",
       "      <td>116</td>\n",
       "    </tr>\n",
       "    <tr>\n",
       "      <th>13</th>\n",
       "      <td>0.109721</td>\n",
       "      <td>[UMFELD_ALT, UMFELD_JUNG]</td>\n",
       "      <td>2</td>\n",
       "    </tr>\n",
       "    <tr>\n",
       "      <th>14</th>\n",
       "      <td>0.109147</td>\n",
       "      <td>[GEMEINDETYP, STRUKTURTYP, VERDICHTUNGSRAUM]</td>\n",
       "      <td>3</td>\n",
       "    </tr>\n",
       "    <tr>\n",
       "      <th>15</th>\n",
       "      <td>0.109082</td>\n",
       "      <td>[ARBEIT, ORTSGR_KLS9, RELAT_AB]</td>\n",
       "      <td>3</td>\n",
       "    </tr>\n",
       "    <tr>\n",
       "      <th>16</th>\n",
       "      <td>0.108848</td>\n",
       "      <td>[ANZ_HH_TITEL]</td>\n",
       "      <td>1</td>\n",
       "    </tr>\n",
       "    <tr>\n",
       "      <th>17</th>\n",
       "      <td>0.105182</td>\n",
       "      <td>[BALLRAUM, EWDICHTE, INNENSTADT]</td>\n",
       "      <td>3</td>\n",
       "    </tr>\n",
       "    <tr>\n",
       "      <th>18</th>\n",
       "      <td>0.104525</td>\n",
       "      <td>[FIRMENDICHTE, GEBAEUDETYP_RASTER, KONSUMZELLE]</td>\n",
       "      <td>3</td>\n",
       "    </tr>\n",
       "    <tr>\n",
       "      <th>19</th>\n",
       "      <td>0.104517</td>\n",
       "      <td>[ANZ_HAUSHALTE_AKTIV, ANZ_STATISTISCHE_HAUSHAL...</td>\n",
       "      <td>9</td>\n",
       "    </tr>\n",
       "    <tr>\n",
       "      <th>20</th>\n",
       "      <td>0.085183</td>\n",
       "      <td>[VK_DHT4A, VK_DISTANZ, VK_ZG11]</td>\n",
       "      <td>3</td>\n",
       "    </tr>\n",
       "    <tr>\n",
       "      <th>21</th>\n",
       "      <td>0.082997</td>\n",
       "      <td>[KONSUMNAEHE]</td>\n",
       "      <td>1</td>\n",
       "    </tr>\n",
       "    <tr>\n",
       "      <th>22</th>\n",
       "      <td>0.082470</td>\n",
       "      <td>[AKT_DAT_KL, ALTER_HH, ANZ_KINDER, ANZ_PERSONE...</td>\n",
       "      <td>11</td>\n",
       "    </tr>\n",
       "    <tr>\n",
       "      <th>23</th>\n",
       "      <td>0.057478</td>\n",
       "      <td>[RT_UEBERGROESSE]</td>\n",
       "      <td>1</td>\n",
       "    </tr>\n",
       "    <tr>\n",
       "      <th>24</th>\n",
       "      <td>0.020587</td>\n",
       "      <td>[HH_EINKOMMEN_SCORE]</td>\n",
       "      <td>1</td>\n",
       "    </tr>\n",
       "    <tr>\n",
       "      <th>25</th>\n",
       "      <td>0.005446</td>\n",
       "      <td>[CJT_GESAMTTYP, CJT_KATALOGNUTZER, CJT_TYP_1, ...</td>\n",
       "      <td>19</td>\n",
       "    </tr>\n",
       "    <tr>\n",
       "      <th>26</th>\n",
       "      <td>0.000000</td>\n",
       "      <td>[LNR, AGER_TYP, CAMEO_DEU_2015, CAMEO_DEUG_201...</td>\n",
       "      <td>98</td>\n",
       "    </tr>\n",
       "  </tbody>\n",
       "</table>\n",
       "</div>"
      ],
      "text/plain": [
       "    missing_percent                                              index  \\\n",
       "0          0.998648                                      [ALTER_KIND4]   \n",
       "1          0.993077                                      [ALTER_KIND3]   \n",
       "2          0.966900                                      [ALTER_KIND2]   \n",
       "3          0.909048                                      [ALTER_KIND1]   \n",
       "4          0.733996                                        [EXTSEL992]   \n",
       "5          0.655967                                     [KK_KUNDENTYP]   \n",
       "6          0.295041                             [ALTERSKATEGORIE_FEIN]   \n",
       "7          0.288495  [D19_BANKEN_ONLINE_QUOTE_12, D19_GESAMT_ONLINE...   \n",
       "8          0.149597  [KBA05_ALTER1, KBA05_ALTER2, KBA05_ALTER3, KBA...   \n",
       "9          0.135989                               [KKK, REGIOTYP, VHN]   \n",
       "10         0.130736  [PLZ8_ANTG1, PLZ8_ANTG2, PLZ8_ANTG3, PLZ8_ANTG...   \n",
       "11         0.120735                    [HH_DELTA_FLAG, W_KEIT_KIND_HH]   \n",
       "12         0.118714  [KBA13_ALTERHALTER_30, KBA13_ALTERHALTER_45, K...   \n",
       "13         0.109721                          [UMFELD_ALT, UMFELD_JUNG]   \n",
       "14         0.109147       [GEMEINDETYP, STRUKTURTYP, VERDICHTUNGSRAUM]   \n",
       "15         0.109082                    [ARBEIT, ORTSGR_KLS9, RELAT_AB]   \n",
       "16         0.108848                                     [ANZ_HH_TITEL]   \n",
       "17         0.105182                   [BALLRAUM, EWDICHTE, INNENSTADT]   \n",
       "18         0.104525    [FIRMENDICHTE, GEBAEUDETYP_RASTER, KONSUMZELLE]   \n",
       "19         0.104517  [ANZ_HAUSHALTE_AKTIV, ANZ_STATISTISCHE_HAUSHAL...   \n",
       "20         0.085183                    [VK_DHT4A, VK_DISTANZ, VK_ZG11]   \n",
       "21         0.082997                                      [KONSUMNAEHE]   \n",
       "22         0.082470  [AKT_DAT_KL, ALTER_HH, ANZ_KINDER, ANZ_PERSONE...   \n",
       "23         0.057478                                  [RT_UEBERGROESSE]   \n",
       "24         0.020587                               [HH_EINKOMMEN_SCORE]   \n",
       "25         0.005446  [CJT_GESAMTTYP, CJT_KATALOGNUTZER, CJT_TYP_1, ...   \n",
       "26         0.000000  [LNR, AGER_TYP, CAMEO_DEU_2015, CAMEO_DEUG_201...   \n",
       "\n",
       "    attribute_cnt  \n",
       "0               1  \n",
       "1               1  \n",
       "2               1  \n",
       "3               1  \n",
       "4               1  \n",
       "5               1  \n",
       "6               1  \n",
       "7               8  \n",
       "8              64  \n",
       "9               3  \n",
       "10              7  \n",
       "11              2  \n",
       "12            116  \n",
       "13              2  \n",
       "14              3  \n",
       "15              3  \n",
       "16              1  \n",
       "17              3  \n",
       "18              3  \n",
       "19              9  \n",
       "20              3  \n",
       "21              1  \n",
       "22             11  \n",
       "23              1  \n",
       "24              1  \n",
       "25             19  \n",
       "26             98  "
      ]
     },
     "execution_count": 29,
     "metadata": {},
     "output_type": "execute_result"
    }
   ],
   "source": [
    "azdias_missing_percent"
   ]
  },
  {
   "cell_type": "code",
   "execution_count": null,
   "metadata": {},
   "outputs": [
    {
     "name": "stdout",
     "output_type": "stream",
     "text": [
      "ANZ_HAUSHALTE_AKTIV\n",
      "0.0        6463\n",
      "1.0      195957\n",
      "2.0      120982\n",
      "3.0       62575\n",
      "4.0       43213\n",
      "5.0       37815\n",
      "6.0       36020\n",
      "7.0       34526\n",
      "8.0       32293\n",
      "9.0       29002\n",
      "10.0      25428\n",
      "11.0      21965\n",
      "12.0      18033\n",
      "13.0      15282\n",
      "14.0      12625\n",
      "15.0      10371\n",
      "16.0       8899\n",
      "17.0       7292\n",
      "18.0       6324\n",
      "19.0       5461\n",
      "20.0       4674\n",
      "21.0       4138\n",
      "22.0       3735\n",
      "23.0       3243\n",
      "24.0       2838\n",
      "25.0       2636\n",
      "26.0       2342\n",
      "27.0       2232\n",
      "28.0       2040\n",
      "29.0       1963\n",
      "          ...  \n",
      "311.0        13\n",
      "314.0         9\n",
      "316.0         5\n",
      "317.0         6\n",
      "318.0         8\n",
      "321.0         8\n",
      "326.0         4\n",
      "328.0         7\n",
      "331.0         4\n",
      "333.0         8\n",
      "344.0         9\n",
      "346.0         7\n",
      "347.0        11\n",
      "348.0        11\n",
      "353.0         7\n",
      "366.0         1\n",
      "367.0         9\n",
      "377.0         5\n",
      "378.0         3\n",
      "379.0         6\n",
      "395.0         3\n",
      "404.0         2\n",
      "414.0         3\n",
      "430.0         6\n",
      "438.0         9\n",
      "445.0         7\n",
      "515.0         4\n",
      "523.0         4\n",
      "536.0         1\n",
      "595.0         8\n",
      "Name: LNR, Length: 292, dtype: int64\n",
      "ANZ_STATISTISCHE_HAUSHALTE\n",
      "0.0          43\n",
      "1.0      219119\n",
      "2.0      121485\n",
      "3.0       61478\n",
      "4.0       44864\n",
      "5.0       40133\n",
      "6.0       38466\n",
      "7.0       36589\n",
      "8.0       32816\n",
      "9.0       28500\n",
      "10.0      24100\n",
      "11.0      19461\n",
      "12.0      16296\n",
      "13.0      13040\n",
      "14.0      10616\n",
      "15.0       8939\n",
      "16.0       7314\n",
      "17.0       6136\n",
      "18.0       5220\n",
      "19.0       4465\n",
      "20.0       3840\n",
      "21.0       3433\n",
      "22.0       3221\n",
      "23.0       2633\n",
      "24.0       2485\n",
      "25.0       2384\n",
      "26.0       2042\n",
      "27.0       1995\n",
      "28.0       1930\n",
      "29.0       1712\n",
      "          ...  \n",
      "269.0         7\n",
      "274.0        12\n",
      "284.0         4\n",
      "286.0         7\n",
      "289.0         3\n",
      "292.0        10\n",
      "296.0         9\n",
      "297.0        13\n",
      "299.0         6\n",
      "303.0         5\n",
      "304.0         6\n",
      "309.0         4\n",
      "314.0         1\n",
      "317.0        17\n",
      "319.0         7\n",
      "322.0         9\n",
      "328.0         5\n",
      "336.0         2\n",
      "339.0        13\n",
      "342.0        11\n",
      "353.0         8\n",
      "354.0         9\n",
      "365.0         9\n",
      "366.0         7\n",
      "367.0         9\n",
      "369.0         9\n",
      "371.0         3\n",
      "375.0         6\n",
      "445.0         7\n",
      "449.0         3\n",
      "Name: LNR, Length: 268, dtype: int64\n",
      "DSL_FLAG\n",
      "0.0     25685\n",
      "1.0    772388\n",
      "Name: LNR, dtype: int64\n"
     ]
    }
   ],
   "source": [
    "for col in azdias_missing_percent.iloc[20,:]['index']:\n",
    "    print(azdias.groupby([col]).count()['LNR'])\n",
    "    "
   ]
  },
  {
   "cell_type": "code",
   "execution_count": 32,
   "metadata": {},
   "outputs": [
    {
     "data": {
      "text/plain": [
       "KBA05_MOD4\n",
       "0.0     50590\n",
       "1.0     97881\n",
       "2.0    160094\n",
       "3.0    223139\n",
       "4.0    130801\n",
       "5.0     80606\n",
       "9.0     14786\n",
       "Name: LNR, dtype: int64"
      ]
     },
     "execution_count": 32,
     "metadata": {},
     "output_type": "execute_result"
    }
   ],
   "source": [
    "azdias.groupby(['KBA05_MOD4']).count()['LNR']"
   ]
  },
  {
   "cell_type": "code",
   "execution_count": null,
   "metadata": {},
   "outputs": [],
   "source": []
  },
  {
   "cell_type": "code",
   "execution_count": null,
   "metadata": {},
   "outputs": [],
   "source": [
    "mailout_train = pd.read_csv('data/Udacity_MAILOUT_052018_TRAIN.csv', sep=';')\n",
    "mailout_test = pd.read_csv('data/Udacity_MAILOUT_052018_TEST.csv', sep=';')"
   ]
  }
 ],
 "metadata": {
  "kernelspec": {
   "display_name": "Python 3",
   "language": "python",
   "name": "python3"
  },
  "language_info": {
   "codemirror_mode": {
    "name": "ipython",
    "version": 3
   },
   "file_extension": ".py",
   "mimetype": "text/x-python",
   "name": "python",
   "nbconvert_exporter": "python",
   "pygments_lexer": "ipython3",
   "version": "3.7.3"
  }
 },
 "nbformat": 4,
 "nbformat_minor": 4
}
